{
  "cells": [
    {
      "cell_type": "code",
      "execution_count": null,
      "metadata": {
        "colab": {
          "base_uri": "https://localhost:8080/"
        },
        "id": "DrxaP9NHagEA",
        "outputId": "bb30cfa5-a279-49af-89cd-4ff69ac40f9f"
      },
      "outputs": [
        {
          "name": "stdout",
          "output_type": "stream",
          "text": [
            "(130, 13) (130,)\n"
          ]
        }
      ],
      "source": [
        "# Import the required libraries\n",
        "import numpy as np\n",
        "from sklearn.datasets import load_wine  \n",
        "from sklearn.model_selection import train_test_split \n",
        "from sklearn.neural_network import MLPClassifier  \n",
        "from sklearn.metrics import accuracy_score \n",
        "\n",
        "# Load the wine dataset\n",
        "wine = load_wine()\n",
        "X = wine.data  \n",
        "y = wine.target  \n",
        "\n",
        "# Filter the dataset to include only two classes (binary classification)\n",
        "mask = y < 2  \n",
        "X = X[mask]  \n",
        "y = y[mask] \n",
        "\n",
        "# Print the shape of the data\n",
        "print(X.shape, y.shape)  "
      ]
    },
    {
      "cell_type": "code",
      "execution_count": null,
      "metadata": {
        "colab": {
          "base_uri": "https://localhost:8080/"
        },
        "id": "64-nUPFTe8gq",
        "outputId": "15ea28ef-b3c9-4b5a-bae6-d50d675d70e5"
      },
      "outputs": [
        {
          "name": "stdout",
          "output_type": "stream",
          "text": [
            "Default MLP Accuracy:  0.9230769230769231\n",
            "Custom MLP (3 Neurons) Accuracy:  0.8076923076923077\n"
          ]
        },
        {
          "name": "stderr",
          "output_type": "stream",
          "text": [
            "/usr/local/lib/python3.10/dist-packages/sklearn/neural_network/_multilayer_perceptron.py:686: ConvergenceWarning: Stochastic Optimizer: Maximum iterations (200) reached and the optimization hasn't converged yet.\n",
            "  warnings.warn(\n",
            "/usr/local/lib/python3.10/dist-packages/sklearn/neural_network/_multilayer_perceptron.py:686: ConvergenceWarning: Stochastic Optimizer: Maximum iterations (200) reached and the optimization hasn't converged yet.\n",
            "  warnings.warn(\n"
          ]
        }
      ],
      "source": [
        "\n",
        "# Split the dataset into training and testing sets (80% train, 20% test)\n",
        "X_train, X_test, y_train, y_test = train_test_split(X, y, test_size=0.2, random_state=42)\n",
        "\n",
        "# Train a default MLPClassifier with default parameters\n",
        "mlp_default = MLPClassifier(random_state=42)\n",
        "mlp_default.fit(X_train, y_train)\n",
        "\n",
        "# Train a custom MLPClassifier with one hidden layer containing 6 neurons\n",
        "mlp_custom = MLPClassifier(hidden_layer_sizes=(6,), random_state=42)\n",
        "mlp_custom.fit(X_train, y_train)\n",
        "\n",
        "# Predict using the default MLPClassifier on the test set\n",
        "y_pred_default = mlp_default.predict(X_test)\n",
        "\n",
        "# Calculate the accuracy of the default MLP model\n",
        "accuracy_default = accuracy_score(y_test, y_pred_default)\n",
        "print(\"Default MLP Accuracy: \", accuracy_default)\n",
        "\n",
        "# Predict using the custom MLPClassifier on the test set\n",
        "y_pred_custom = mlp_custom.predict(X_test)\n",
        "\n",
        "# Calculate the accuracy of the custom MLP model\n",
        "accuracy_custom = accuracy_score(y_test, y_pred_custom)\n",
        "print(\"Custom MLP (6 Neurons) Accuracy: \", accuracy_custom)\n"
      ]
    }
  ],
  "metadata": {
    "colab": {
      "provenance": []
    },
    "kernelspec": {
      "display_name": "Python 3",
      "name": "python3"
    },
    "language_info": {
      "name": "python"
    }
  },
  "nbformat": 4,
  "nbformat_minor": 0
}
