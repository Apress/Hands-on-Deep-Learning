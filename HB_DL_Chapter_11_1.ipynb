{
  "nbformat": 4,
  "nbformat_minor": 0,
  "metadata": {
    "colab": {
      "provenance": []
    },
    "kernelspec": {
      "name": "python3",
      "display_name": "Python 3"
    },
    "language_info": {
      "name": "python"
    }
  },
  "cells": [
    {
      "cell_type": "code",
      "source": [
        "# Importing Libraries\n",
        "import tensorflow as tf\n",
        "from tensorflow.keras import datasets, layers, models\n",
        "import matplotlib.pyplot as plt\n",
        "import numpy as np\n",
        "from tensorflow.keras import optimizers"
      ],
      "metadata": {
        "id": "Xxoc5Sa1Ll1p"
      },
      "execution_count": null,
      "outputs": []
    },
    {
      "cell_type": "code",
      "source": [
        "# Loading MNIST dataset\n",
        "mnist_data = tf.keras.datasets.mnist\n",
        "(X_train, y_train), (X_test, y_test) = mnist_data.load_data()"
      ],
      "metadata": {
        "id": "Dnnunbt1Lq7w"
      },
      "execution_count": null,
      "outputs": []
    },
    {
      "cell_type": "code",
      "source": [
        "# Reshaping and normalizing the training and test data\n",
        "X_train = np.reshape(X_train, (X_train.shape[0], X_train.shape[1] * X_train.shape[2]))\n",
        "X_test = np.reshape(X_test, (X_test.shape[0], X_test.shape[1] * X_test.shape[2]))\n",
        "X_train = X_train / 255\n",
        "X_test = X_test / 255\n",
        "X_train = X_train.astype('float32')\n",
        "X_test = X_test.astype('float32')"
      ],
      "metadata": {
        "id": "0l7Wq5JHLtek"
      },
      "execution_count": null,
      "outputs": []
    },
    {
      "cell_type": "code",
      "source": [
        "# Building the Autoencoder model\n",
        "model = tf.keras.Sequential()\n",
        "model.add(tf.keras.layers.Dense(units=512, activation='sigmoid', input_shape=(784,))) # Hidden Dimension or Latent Representation\n",
        "model.add(tf.keras.layers.Dense(units=784, activation='sigmoid'))  # Output layer with same number of units as in the input layer\n",
        "# Compiling the model\n",
        "model.compile(loss='MeanSquaredError', optimizer='adam', metrics=['MeanSquaredError'])\n",
        "# Displaying the model summary\n",
        "model.summary()"
      ],
      "metadata": {
        "id": "lN4g4lTgLxiW"
      },
      "execution_count": null,
      "outputs": []
    },
    {
      "cell_type": "code",
      "source": [
        "# Training the model\n",
        "epochs = 100\n",
        "history = model.fit(X_train, X_train, epochs=epochs, validation_data=(X_test, X_test), batch_size=128, verbose=2)"
      ],
      "metadata": {
        "id": "t8hYevARMViV"
      },
      "execution_count": null,
      "outputs": []
    },
    {
      "cell_type": "code",
      "source": [
        "# Plotting loss for 100 epochs using Adam optimizer\n",
        "num_epochs = np.arange(0, 100)\n",
        "plt.figure()\n",
        "plt.plot(num_epochs, history.history['loss'], label='Training Loss')\n",
        "plt.plot(num_epochs, history.history['val_loss'], label='Validation Loss')\n",
        "plt.xlabel('Epoch')\n",
        "plt.ylabel('Loss')\n",
        "plt.legend()\n",
        "plt.show()"
      ],
      "metadata": {
        "id": "z0qe0iHuMhtP"
      },
      "execution_count": null,
      "outputs": []
    },
    {
      "cell_type": "code",
      "source": [
        "# Predicting on test data and displaying the results\n",
        "X_pred = model.predict(X_test[:10, :])\n",
        "X_pred = np.reshape(X_pred, (X_pred.shape[0], 28, 28))\n",
        "X_pred = X_pred * 256\n",
        "plt.figure()\n",
        "# Displaying the first 9 predicted images\n",
        "for i in range(1, 10):\n",
        "  plt.subplot(5, 2, i)\n",
        "  plt.imshow(X_pred[i-1, :, :])\n",
        "# Reshaping test data for visualization\n",
        "X_test1 = X_test[:10, :]\n",
        "X_test1 = np.reshape(X_pred, (X_pred.shape[0], 28, 28))\n",
        "X_test1 = X_test1 * 256\n",
        "plt.figure()\n",
        "# Displaying the first 9 test images\n",
        "for i in range(1, 10):\n",
        "  plt.subplot(5, 2, i)\n",
        "  plt.imshow(X_test1[i-1, :, :])"
      ],
      "metadata": {
        "id": "eEBXK1OdMo9a"
      },
      "execution_count": null,
      "outputs": []
    }
  ]
}